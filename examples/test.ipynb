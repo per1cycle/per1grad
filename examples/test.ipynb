{
 "cells": [
  {
   "cell_type": "code",
   "execution_count": 2,
   "metadata": {},
   "outputs": [],
   "source": [
    "import numpy as np"
   ]
  },
  {
   "cell_type": "code",
   "execution_count": 3,
   "metadata": {},
   "outputs": [],
   "source": [
    "a = np.array([[1, -2], [-1, 3]])\n",
    "b = np.zeros_like(a)\n",
    "c = np.maximum(a, b)\n",
    "d = np.negative(a)\n",
    "e = 1 / (1+np.exp(d))\n"
   ]
  },
  {
   "cell_type": "code",
   "execution_count": 5,
   "metadata": {},
   "outputs": [
    {
     "data": {
      "text/plain": [
       "per1grad buffer:\n",
       " [[1.73105858 0.        ]\n",
       " [0.         3.95257413]]"
      ]
     },
     "execution_count": 5,
     "metadata": {},
     "output_type": "execute_result"
    }
   ],
   "source": [
    "from per1grad.function import Function as f \n",
    "from per1grad.buffer import Buffer \n",
    "from per1grad.ops import Ops\n",
    "\n",
    "pa = Buffer(a)\n",
    "pb = Buffer(e)\n",
    "pc = pa.doop(Ops.ADD, pb)\n",
    "pc = f.relu(pc)\n",
    "pc"
   ]
  },
  {
   "cell_type": "code",
   "execution_count": 10,
   "metadata": {},
   "outputs": [
    {
     "ename": "TypeError",
     "evalue": "Tensor.__init__() takes 2 positional arguments but 3 were given",
     "output_type": "error",
     "traceback": [
      "\u001b[0;31m---------------------------------------------------------------------------\u001b[0m",
      "\u001b[0;31mTypeError\u001b[0m                                 Traceback (most recent call last)",
      "Cell \u001b[0;32mIn[10], line 6\u001b[0m\n\u001b[1;32m      4\u001b[0m a \u001b[38;5;241m=\u001b[39m np\u001b[38;5;241m.\u001b[39marray([[\u001b[38;5;241m2\u001b[39m, \u001b[38;5;241m1\u001b[39m], [\u001b[38;5;241m-\u001b[39m\u001b[38;5;241m1\u001b[39m, \u001b[38;5;241m3\u001b[39m]])\n\u001b[1;32m      5\u001b[0m ta \u001b[38;5;241m=\u001b[39m Tensor(a)\n\u001b[0;32m----> 6\u001b[0m copy_ta \u001b[38;5;241m=\u001b[39m \u001b[43mTensor\u001b[49m\u001b[43m(\u001b[49m\u001b[43mta\u001b[49m\u001b[43m,\u001b[49m\u001b[43m \u001b[49m\u001b[43mta\u001b[49m\u001b[43m)\u001b[49m\n",
      "\u001b[0;31mTypeError\u001b[0m: Tensor.__init__() takes 2 positional arguments but 3 were given"
     ]
    }
   ],
   "source": [
    "from per1grad.tensor import Tensor\n",
    "import numpy as np \n",
    "\n",
    "a = np.array([[2, 1], [-1, 3]])\n",
    "ta = Tensor(a)\n",
    "copy_ta = Tensor(ta, ta)\n"
   ]
  },
  {
   "cell_type": "code",
   "execution_count": 1,
   "metadata": {},
   "outputs": [
    {
     "name": "stdout",
     "output_type": "stream",
     "text": [
      "[[[1 2]\n",
      "  [2 3]]\n",
      "\n",
      " [[2 3]\n",
      "  [2 2]]]\n",
      "[[[1 2]\n",
      "  [2 3]]\n",
      "\n",
      " [[2 3]\n",
      "  [2 2]]]\n"
     ]
    }
   ],
   "source": [
    "from per1grad.buffer import Buffer\n",
    "\n",
    "import numpy as np \n",
    "a = np.array([[1, 2], [2, 3]])\n",
    "b = np.array([[2, 3], [2, 2]])\n",
    "c = np.array([a, b])\n",
    "ba = Buffer(a)\n",
    "bb = Buffer(b)\n",
    "bc = Buffer([ba, bb])\n",
    "print(c)\n",
    "print(bc._np)"
   ]
  }
 ],
 "metadata": {
  "kernelspec": {
   "display_name": "3.10",
   "language": "python",
   "name": "python3"
  },
  "language_info": {
   "codemirror_mode": {
    "name": "ipython",
    "version": 3
   },
   "file_extension": ".py",
   "mimetype": "text/x-python",
   "name": "python",
   "nbconvert_exporter": "python",
   "pygments_lexer": "ipython3",
   "version": "3.10.14"
  }
 },
 "nbformat": 4,
 "nbformat_minor": 2
}
