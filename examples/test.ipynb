{
 "cells": [
  {
   "cell_type": "code",
   "execution_count": 2,
   "metadata": {},
   "outputs": [],
   "source": [
    "import numpy as np"
   ]
  },
  {
   "cell_type": "code",
   "execution_count": 3,
   "metadata": {},
   "outputs": [],
   "source": [
    "a = np.array([[1, -2], [-1, 3]])\n",
    "b = np.zeros_like(a)\n",
    "c = np.maximum(a, b)\n",
    "d = np.negative(a)\n",
    "e = 1 / (1+np.exp(d))\n"
   ]
  },
  {
   "cell_type": "code",
   "execution_count": 5,
   "metadata": {},
   "outputs": [
    {
     "data": {
      "text/plain": [
       "per1grad buffer:\n",
       " [[1.73105858 0.        ]\n",
       " [0.         3.95257413]]"
      ]
     },
     "execution_count": 5,
     "metadata": {},
     "output_type": "execute_result"
    }
   ],
   "source": [
    "from per1grad.function import Function as f \n",
    "from per1grad.buffer import Buffer \n",
    "from per1grad.ops import Ops\n",
    "\n",
    "pa = Buffer(a)\n",
    "pb = Buffer(e)\n",
    "pc = pa.doop(Ops.ADD, pb)\n",
    "pc = f.relu(pc)\n",
    "pc"
   ]
  },
  {
   "cell_type": "code",
   "execution_count": 6,
   "metadata": {},
   "outputs": [],
   "source": [
    "from __future__ import annotations\n",
    "class Foo:\n",
    "    def __init__(self) -> None:\n",
    "        pass \n",
    "    def doop(self, y: Foo):\n",
    "        pass \n"
   ]
  }
 ],
 "metadata": {
  "kernelspec": {
   "display_name": "3.10",
   "language": "python",
   "name": "python3"
  },
  "language_info": {
   "codemirror_mode": {
    "name": "ipython",
    "version": 3
   },
   "file_extension": ".py",
   "mimetype": "text/x-python",
   "name": "python",
   "nbconvert_exporter": "python",
   "pygments_lexer": "ipython3",
   "version": "3.10.14"
  }
 },
 "nbformat": 4,
 "nbformat_minor": 2
}
